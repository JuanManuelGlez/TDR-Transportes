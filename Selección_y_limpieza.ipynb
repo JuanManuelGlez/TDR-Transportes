{
 "cells": [
  {
   "cell_type": "markdown",
   "metadata": {},
   "source": [
    "# Selección y limpieza de datos \n",
    "## Juan Manuel González Ascencio\n",
    "## Diana Gonzalez Munguia\n",
    "## Sebastián Romero Velasco\n",
    "## Jaime Ernesto Aguilar Trejo\n",
    "\n",
    "------\n",
    "### Eliminar las columnas o variables no relevantes al dominio o contexto del proyecto."
   ]
  },
  {
   "cell_type": "code",
   "execution_count": 31,
   "metadata": {},
   "outputs": [],
   "source": [
    "import pandas as pd\n",
    "import missingno as msno\n",
    "import matplotlib.pyplot as plt\n",
    "import seaborn as sns"
   ]
  },
  {
   "cell_type": "code",
   "execution_count": 14,
   "metadata": {},
   "outputs": [
    {
     "data": {
      "text/html": [
       "<div>\n",
       "<style scoped>\n",
       "    .dataframe tbody tr th:only-of-type {\n",
       "        vertical-align: middle;\n",
       "    }\n",
       "\n",
       "    .dataframe tbody tr th {\n",
       "        vertical-align: top;\n",
       "    }\n",
       "\n",
       "    .dataframe thead th {\n",
       "        text-align: right;\n",
       "    }\n",
       "</style>\n",
       "<table border=\"1\" class=\"dataframe\">\n",
       "  <thead>\n",
       "    <tr style=\"text-align: right;\">\n",
       "      <th></th>\n",
       "      <th>Unidad</th>\n",
       "      <th>TAG</th>\n",
       "      <th>Flota</th>\n",
       "      <th>EC</th>\n",
       "      <th>Fecha</th>\n",
       "      <th>Sistema</th>\n",
       "      <th>Costo Caseta</th>\n",
       "      <th>Semana</th>\n",
       "      <th>Mes</th>\n",
       "    </tr>\n",
       "  </thead>\n",
       "  <tbody>\n",
       "    <tr>\n",
       "      <th>0</th>\n",
       "      <td>1636</td>\n",
       "      <td>CPFI11071128</td>\n",
       "      <td>Liverpool Local</td>\n",
       "      <td>EC-01</td>\n",
       "      <td>2024-01-01 23:52:54</td>\n",
       "      <td>CAPUFE</td>\n",
       "      <td>444.0</td>\n",
       "      <td>1</td>\n",
       "      <td>1</td>\n",
       "    </tr>\n",
       "    <tr>\n",
       "      <th>1</th>\n",
       "      <td>1827</td>\n",
       "      <td>CPFI11071066</td>\n",
       "      <td>Full Liver</td>\n",
       "      <td>EC-01</td>\n",
       "      <td>2024-01-01 00:00:00</td>\n",
       "      <td>CAPUFE</td>\n",
       "      <td>557.0</td>\n",
       "      <td>1</td>\n",
       "      <td>1</td>\n",
       "    </tr>\n",
       "    <tr>\n",
       "      <th>2</th>\n",
       "      <td>1637</td>\n",
       "      <td>CPFI11071126</td>\n",
       "      <td>Liverpool Local</td>\n",
       "      <td>EC-01</td>\n",
       "      <td>2024-01-01 00:00:00</td>\n",
       "      <td>CAPUFE</td>\n",
       "      <td>51.0</td>\n",
       "      <td>1</td>\n",
       "      <td>1</td>\n",
       "    </tr>\n",
       "    <tr>\n",
       "      <th>3</th>\n",
       "      <td>1630</td>\n",
       "      <td>CPFI11047526</td>\n",
       "      <td>Liverpool Local</td>\n",
       "      <td>EC-01</td>\n",
       "      <td>2024-01-01 00:00:00</td>\n",
       "      <td>CAPUFE</td>\n",
       "      <td>239.0</td>\n",
       "      <td>1</td>\n",
       "      <td>1</td>\n",
       "    </tr>\n",
       "    <tr>\n",
       "      <th>4</th>\n",
       "      <td>1827</td>\n",
       "      <td>CPFI11071066</td>\n",
       "      <td>Full Liver</td>\n",
       "      <td>EC-01</td>\n",
       "      <td>2024-01-01 00:00:00</td>\n",
       "      <td>CAPUFE</td>\n",
       "      <td>251.0</td>\n",
       "      <td>1</td>\n",
       "      <td>1</td>\n",
       "    </tr>\n",
       "  </tbody>\n",
       "</table>\n",
       "</div>"
      ],
      "text/plain": [
       "  Unidad           TAG            Flota     EC               Fecha Sistema  \\\n",
       "0   1636  CPFI11071128  Liverpool Local  EC-01 2024-01-01 23:52:54  CAPUFE   \n",
       "1   1827  CPFI11071066       Full Liver  EC-01 2024-01-01 00:00:00  CAPUFE   \n",
       "2   1637  CPFI11071126  Liverpool Local  EC-01 2024-01-01 00:00:00  CAPUFE   \n",
       "3   1630  CPFI11047526  Liverpool Local  EC-01 2024-01-01 00:00:00  CAPUFE   \n",
       "4   1827  CPFI11071066       Full Liver  EC-01 2024-01-01 00:00:00  CAPUFE   \n",
       "\n",
       "   Costo Caseta  Semana  Mes  \n",
       "0         444.0       1    1  \n",
       "1         557.0       1    1  \n",
       "2          51.0       1    1  \n",
       "3         239.0       1    1  \n",
       "4         251.0       1    1  "
      ]
     },
     "execution_count": 14,
     "metadata": {},
     "output_type": "execute_result"
    }
   ],
   "source": [
    "# Load the data\n",
    "df = pd.read_excel(\"BD_TR.xlsx\", sheet_name=\"Casetas\")\n",
    "df.head()"
   ]
  },
  {
   "cell_type": "markdown",
   "metadata": {},
   "source": [
    "Al analizar un poco el dataframe nos damos cuenta que la hoja que nos interesa es la de casetas, por lo que unicamente tomaremos los valores de ahí. \n",
    "\n",
    "Viendo un poco las columnas, podemos ver que Flota, EC y mes unicamente contienen un registro y es el mismo.\n",
    "- Flota: Full Liver\n",
    "- EC: EC-01\n",
    "- Mes: 1\n",
    "\n",
    "Considerando esto no nos aporta valor mantenerlas, pero hay que ser consiente que exiten y cuales eran sus valores en caso de que en un futuro sea necesario."
   ]
  },
  {
   "cell_type": "code",
   "execution_count": 17,
   "metadata": {},
   "outputs": [
    {
     "data": {
      "text/html": [
       "<div>\n",
       "<style scoped>\n",
       "    .dataframe tbody tr th:only-of-type {\n",
       "        vertical-align: middle;\n",
       "    }\n",
       "\n",
       "    .dataframe tbody tr th {\n",
       "        vertical-align: top;\n",
       "    }\n",
       "\n",
       "    .dataframe thead th {\n",
       "        text-align: right;\n",
       "    }\n",
       "</style>\n",
       "<table border=\"1\" class=\"dataframe\">\n",
       "  <thead>\n",
       "    <tr style=\"text-align: right;\">\n",
       "      <th></th>\n",
       "      <th>Unidad</th>\n",
       "      <th>TAG</th>\n",
       "      <th>Fecha</th>\n",
       "      <th>Sistema</th>\n",
       "      <th>Costo Caseta</th>\n",
       "      <th>Semana</th>\n",
       "    </tr>\n",
       "  </thead>\n",
       "  <tbody>\n",
       "    <tr>\n",
       "      <th>0</th>\n",
       "      <td>1636</td>\n",
       "      <td>CPFI11071128</td>\n",
       "      <td>2024-01-01 23:52:54</td>\n",
       "      <td>CAPUFE</td>\n",
       "      <td>444.0</td>\n",
       "      <td>1</td>\n",
       "    </tr>\n",
       "    <tr>\n",
       "      <th>1</th>\n",
       "      <td>1827</td>\n",
       "      <td>CPFI11071066</td>\n",
       "      <td>2024-01-01 00:00:00</td>\n",
       "      <td>CAPUFE</td>\n",
       "      <td>557.0</td>\n",
       "      <td>1</td>\n",
       "    </tr>\n",
       "    <tr>\n",
       "      <th>2</th>\n",
       "      <td>1637</td>\n",
       "      <td>CPFI11071126</td>\n",
       "      <td>2024-01-01 00:00:00</td>\n",
       "      <td>CAPUFE</td>\n",
       "      <td>51.0</td>\n",
       "      <td>1</td>\n",
       "    </tr>\n",
       "    <tr>\n",
       "      <th>3</th>\n",
       "      <td>1630</td>\n",
       "      <td>CPFI11047526</td>\n",
       "      <td>2024-01-01 00:00:00</td>\n",
       "      <td>CAPUFE</td>\n",
       "      <td>239.0</td>\n",
       "      <td>1</td>\n",
       "    </tr>\n",
       "    <tr>\n",
       "      <th>4</th>\n",
       "      <td>1827</td>\n",
       "      <td>CPFI11071066</td>\n",
       "      <td>2024-01-01 00:00:00</td>\n",
       "      <td>CAPUFE</td>\n",
       "      <td>251.0</td>\n",
       "      <td>1</td>\n",
       "    </tr>\n",
       "  </tbody>\n",
       "</table>\n",
       "</div>"
      ],
      "text/plain": [
       "  Unidad           TAG               Fecha Sistema  Costo Caseta  Semana\n",
       "0   1636  CPFI11071128 2024-01-01 23:52:54  CAPUFE         444.0       1\n",
       "1   1827  CPFI11071066 2024-01-01 00:00:00  CAPUFE         557.0       1\n",
       "2   1637  CPFI11071126 2024-01-01 00:00:00  CAPUFE          51.0       1\n",
       "3   1630  CPFI11047526 2024-01-01 00:00:00  CAPUFE         239.0       1\n",
       "4   1827  CPFI11071066 2024-01-01 00:00:00  CAPUFE         251.0       1"
      ]
     },
     "execution_count": 17,
     "metadata": {},
     "output_type": "execute_result"
    }
   ],
   "source": [
    "columnas_no_relevantes = ['Flota', 'EC', 'Mes']\n",
    "\n",
    "# Eliminar columnas no relevantes\n",
    "#df = df.drop(columnas_no_relevantes, axis=1)\n",
    "df.head()"
   ]
  },
  {
   "cell_type": "code",
   "execution_count": 18,
   "metadata": {},
   "outputs": [
    {
     "data": {
      "text/plain": [
       "<Axes: >"
      ]
     },
     "execution_count": 18,
     "metadata": {},
     "output_type": "execute_result"
    },
    {
     "data": {
      "image/png": "[encoded data removed]",
      "text/plain": [
       "<Figure size 2500x1000 with 2 Axes>"
      ]
     },
     "metadata": {},
     "output_type": "display_data"
    }
   ],
   "source": [
    "msno.matrix(df)"
   ]
  },
  {
   "cell_type": "markdown",
   "metadata": {},
   "source": [
    "Con esto vemos que no tenemos ningún registro faltante, lo que es bueno\n",
    "\n",
    "## Datos atípicos\n",
    "\n",
    "En esta parte unicamnte vamos a analizar la columna de precio, ya que no tiene sentido analizar las semas."
   ]
  },
  {
   "cell_type": "code",
   "execution_count": 27,
   "metadata": {},
   "outputs": [
    {
     "data": {
      "image/png": "[encoded data removed]",
      "text/plain": [
       "<Figure size 1000x600 with 1 Axes>"
      ]
     },
     "metadata": {},
     "output_type": "display_data"
    }
   ],
   "source": [
    "#sacamos el boxplot de la columna precio \n",
    "\n",
    "plt.figure(figsize=(10, 6))\n",
    "sns.boxplot(x=df['Costo Caseta'])\n",
    "plt.title('Boxplot del costo de casetas')\n",
    "plt.show()"
   ]
  },
  {
   "cell_type": "code",
   "execution_count": 28,
   "metadata": {},
   "outputs": [
    {
     "data": {
      "text/plain": [
       "count    80462.000000\n",
       "mean       357.569555\n",
       "std        217.719546\n",
       "min          0.000000\n",
       "25%        205.000000\n",
       "50%        316.000000\n",
       "75%        449.000000\n",
       "max       2425.000000\n",
       "Name: Costo Caseta, dtype: float64"
      ]
     },
     "execution_count": 28,
     "metadata": {},
     "output_type": "execute_result"
    }
   ],
   "source": [
    "df['Costo Caseta'].describe()"
   ]
  },
  {
   "cell_type": "markdown",
   "metadata": {},
   "source": [
    "Realmente la distribución de los valores se ve normal, ya que es el costo de las casetas. Lo unicó que hace un poco de ruido es el tener caseras que cuesten 0, vamos a investigar un poco mas de eso"
   ]
  },
  {
   "cell_type": "code",
   "execution_count": 30,
   "metadata": {},
   "outputs": [
    {
     "data": {
      "text/html": [
       "<div>\n",
       "<style scoped>\n",
       "    .dataframe tbody tr th:only-of-type {\n",
       "        vertical-align: middle;\n",
       "    }\n",
       "\n",
       "    .dataframe tbody tr th {\n",
       "        vertical-align: top;\n",
       "    }\n",
       "\n",
       "    .dataframe thead th {\n",
       "        text-align: right;\n",
       "    }\n",
       "</style>\n",
       "<table border=\"1\" class=\"dataframe\">\n",
       "  <thead>\n",
       "    <tr style=\"text-align: right;\">\n",
       "      <th></th>\n",
       "      <th>Unidad</th>\n",
       "      <th>TAG</th>\n",
       "      <th>Fecha</th>\n",
       "      <th>Sistema</th>\n",
       "      <th>Costo Caseta</th>\n",
       "      <th>Semana</th>\n",
       "    </tr>\n",
       "  </thead>\n",
       "  <tbody>\n",
       "    <tr>\n",
       "      <th>6901</th>\n",
       "      <td>1665</td>\n",
       "      <td>OHLM01632749</td>\n",
       "      <td>2024-01-08</td>\n",
       "      <td>Televia</td>\n",
       "      <td>0.0</td>\n",
       "      <td>2</td>\n",
       "    </tr>\n",
       "    <tr>\n",
       "      <th>7113</th>\n",
       "      <td>1673</td>\n",
       "      <td>OHLM01632808</td>\n",
       "      <td>2024-01-08</td>\n",
       "      <td>Televia</td>\n",
       "      <td>0.0</td>\n",
       "      <td>2</td>\n",
       "    </tr>\n",
       "  </tbody>\n",
       "</table>\n",
       "</div>"
      ],
      "text/plain": [
       "     Unidad           TAG      Fecha  Sistema  Costo Caseta  Semana\n",
       "6901   1665  OHLM01632749 2024-01-08  Televia           0.0       2\n",
       "7113   1673  OHLM01632808 2024-01-08  Televia           0.0       2"
      ]
     },
     "execution_count": 30,
     "metadata": {},
     "output_type": "execute_result"
    }
   ],
   "source": [
    "#contamos cuantos registros de costo de casetas hay con valor 0\n",
    "\n",
    "df[df['Costo Caseta'] == 0].shape[0] #Solo hay dos \n",
    "\n",
    "#Traemos esos registros\n",
    "\n",
    "df[df['Costo Caseta'] == 0]"
   ]
  },
  {
   "cell_type": "markdown",
   "metadata": {},
   "source": [
    "Podemos ver que son dos registros los cuales sucedieron el mismo día, por lo que podemos asumir que fue que las caseta no estaba funcionando o que estaba tomada, pero no podemos quitarlos ya que pueden ser valores normales."
   ]
  },
  {
   "cell_type": "markdown",
   "metadata": {},
   "source": [
    "# Resumen\n",
    "Esto nos ayudo a identificar que no hubiera valores raros o faltantes en el costo de las casetas, eliminamos columnas que no nos era útiles y detectamos dos casos de costo 0, pero no alteramos mas la información ya que se ve bien."
   ]
  }
 ],
 "metadata": {
  "kernelspec": {
   "display_name": "Python 3",
   "language": "python",
   "name": "python3"
  },
  "language_info": {
   "codemirror_mode": {
    "name": "ipython",
    "version": 3
   },
   "file_extension": ".py",
   "mimetype": "text/x-python",
   "name": "python",
   "nbconvert_exporter": "python",
   "pygments_lexer": "ipython3",
   "version": "3.11.6"
  }
 },
 "nbformat": 4,
 "nbformat_minor": 2
}
